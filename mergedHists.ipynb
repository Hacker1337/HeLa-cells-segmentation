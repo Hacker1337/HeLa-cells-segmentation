{
 "cells": [
  {
   "cell_type": "code",
   "execution_count": 21,
   "metadata": {
    "collapsed": true
   },
   "outputs": [],
   "source": [
    "import numpy as np\n",
    "import matplotlib.pyplot as plt\n",
    "import pandas as pd\n",
    "import os\n",
    "import seaborn as sns"
   ]
  },
  {
   "cell_type": "code",
   "execution_count": 2,
   "outputs": [
    {
     "ename": "FileExistsError",
     "evalue": "[WinError 183] Невозможно создать файл, так как он уже существует: 'analys/merged'",
     "output_type": "error",
     "traceback": [
      "\u001B[1;31m---------------------------------------------------------------------------\u001B[0m",
      "\u001B[1;31mFileExistsError\u001B[0m                           Traceback (most recent call last)",
      "\u001B[1;32m<ipython-input-2-07475342611a>\u001B[0m in \u001B[0;36m<module>\u001B[1;34m\u001B[0m\n\u001B[1;32m----> 1\u001B[1;33m \u001B[0mos\u001B[0m\u001B[1;33m.\u001B[0m\u001B[0mmakedirs\u001B[0m\u001B[1;33m(\u001B[0m\u001B[1;34m\"analys/merged\"\u001B[0m\u001B[1;33m)\u001B[0m\u001B[1;33m\u001B[0m\u001B[1;33m\u001B[0m\u001B[0m\n\u001B[0m\u001B[0;32m      2\u001B[0m \u001B[1;33m\u001B[0m\u001B[0m\n",
      "\u001B[1;32m~\\anaconda3\\lib\\os.py\u001B[0m in \u001B[0;36mmakedirs\u001B[1;34m(name, mode, exist_ok)\u001B[0m\n\u001B[0;32m    221\u001B[0m             \u001B[1;32mreturn\u001B[0m\u001B[1;33m\u001B[0m\u001B[1;33m\u001B[0m\u001B[0m\n\u001B[0;32m    222\u001B[0m     \u001B[1;32mtry\u001B[0m\u001B[1;33m:\u001B[0m\u001B[1;33m\u001B[0m\u001B[1;33m\u001B[0m\u001B[0m\n\u001B[1;32m--> 223\u001B[1;33m         \u001B[0mmkdir\u001B[0m\u001B[1;33m(\u001B[0m\u001B[0mname\u001B[0m\u001B[1;33m,\u001B[0m \u001B[0mmode\u001B[0m\u001B[1;33m)\u001B[0m\u001B[1;33m\u001B[0m\u001B[1;33m\u001B[0m\u001B[0m\n\u001B[0m\u001B[0;32m    224\u001B[0m     \u001B[1;32mexcept\u001B[0m \u001B[0mOSError\u001B[0m\u001B[1;33m:\u001B[0m\u001B[1;33m\u001B[0m\u001B[1;33m\u001B[0m\u001B[0m\n\u001B[0;32m    225\u001B[0m         \u001B[1;31m# Cannot rely on checking for EEXIST, since the operating system\u001B[0m\u001B[1;33m\u001B[0m\u001B[1;33m\u001B[0m\u001B[1;33m\u001B[0m\u001B[0m\n",
      "\u001B[1;31mFileExistsError\u001B[0m: [WinError 183] Невозможно создать файл, так как он уже существует: 'analys/merged'"
     ]
    }
   ],
   "source": [
    "os.makedirs(\"analys/merged\")"
   ],
   "metadata": {
    "collapsed": false,
    "pycharm": {
     "name": "#%%\n"
    }
   }
  },
  {
   "cell_type": "code",
   "execution_count": 27,
   "outputs": [],
   "source": [
    "old = pd.read_csv(\"analys/Fixed/table1.csv\", index_col=0).append(pd.read_csv(\"analys/Fixed 2/table1.csv\", index_col=0))\n",
    "apop = pd.read_csv(\"analys/apoptose/table1.csv\", index_col=0)\n",
    "outdir = 'analys/merged/'"
   ],
   "metadata": {
    "collapsed": false,
    "pycharm": {
     "name": "#%%\n"
    }
   }
  },
  {
   "cell_type": "code",
   "execution_count": 28,
   "outputs": [],
   "source": [
    "old['class'] = 0\n",
    "apop['class'] = 1\n",
    "classed = pd.concat([old, apop], axis=0)"
   ],
   "metadata": {
    "collapsed": false,
    "pycharm": {
     "name": "#%%\n"
    }
   }
  },
  {
   "cell_type": "code",
   "execution_count": 19,
   "outputs": [
    {
     "data": {
      "text/plain": "        M, pg  av surface density, pg/mkm^2  av phase profile, rad  \\\n0  227.120331                      0.422461              -0.796992   \n1  182.871715                      0.443575              -0.836823   \n2  128.592846                      0.462755              -0.873007   \n5  115.930490                      0.413702              -0.780467   \n6  144.456853                      0.476134              -0.898248   \n\n   V_ϕ, mkm^3  realVolume, mkm^3  S_p, mkm^2    SA, mkm^2  SAV, mkm^-1  \\\n0   43.152863        3633.977389  537.612075  1087.934025    25.211167   \n1   34.745626        2925.989390  412.268175   833.884302    23.999692   \n2   24.432641        2057.515030  277.885575   562.665890    23.029270   \n5   22.026793        1854.914442  280.226925   567.573110    25.767396   \n6   27.446802        2311.342785  303.395400   614.639000    22.393829   \n\n   SDM, mkm^2/pg  PAR, mkm^-1         ψ  σ, mkm^2      Kurtosis      Skewness  \\\n0       4.790122    12.458318  0.054687  0.001063  4.535852e+10 -3.025211e+08   \n1       4.559941    11.865326  0.061751  0.001543  2.076834e+10 -1.992164e+08   \n2       4.375561    11.373538  0.072368  0.001479  1.631736e+10 -1.252985e+08   \n5       4.895805    12.722094  0.066952  0.001220  1.601724e+10 -1.544197e+08   \n6       4.254828    11.053944  0.071591  0.001716  8.132463e+09 -6.102768e+07   \n\n          ε                   name  class  \n0  0.430175  result/Fixed\\1\\10.txt      0  \n1  0.508573   result/Fixed\\1\\4.txt      0  \n2  0.325312   result/Fixed\\1\\5.txt      0  \n5  0.239150   result/Fixed\\1\\9.txt      0  \n6  0.442418   result/Fixed\\2\\0.txt      0  ",
      "text/html": "<div>\n<style scoped>\n    .dataframe tbody tr th:only-of-type {\n        vertical-align: middle;\n    }\n\n    .dataframe tbody tr th {\n        vertical-align: top;\n    }\n\n    .dataframe thead th {\n        text-align: right;\n    }\n</style>\n<table border=\"1\" class=\"dataframe\">\n  <thead>\n    <tr style=\"text-align: right;\">\n      <th></th>\n      <th>M, pg</th>\n      <th>av surface density, pg/mkm^2</th>\n      <th>av phase profile, rad</th>\n      <th>V_ϕ, mkm^3</th>\n      <th>realVolume, mkm^3</th>\n      <th>S_p, mkm^2</th>\n      <th>SA, mkm^2</th>\n      <th>SAV, mkm^-1</th>\n      <th>SDM, mkm^2/pg</th>\n      <th>PAR, mkm^-1</th>\n      <th>ψ</th>\n      <th>σ, mkm^2</th>\n      <th>Kurtosis</th>\n      <th>Skewness</th>\n      <th>ε</th>\n      <th>name</th>\n      <th>class</th>\n    </tr>\n  </thead>\n  <tbody>\n    <tr>\n      <th>0</th>\n      <td>227.120331</td>\n      <td>0.422461</td>\n      <td>-0.796992</td>\n      <td>43.152863</td>\n      <td>3633.977389</td>\n      <td>537.612075</td>\n      <td>1087.934025</td>\n      <td>25.211167</td>\n      <td>4.790122</td>\n      <td>12.458318</td>\n      <td>0.054687</td>\n      <td>0.001063</td>\n      <td>4.535852e+10</td>\n      <td>-3.025211e+08</td>\n      <td>0.430175</td>\n      <td>result/Fixed\\1\\10.txt</td>\n      <td>0</td>\n    </tr>\n    <tr>\n      <th>1</th>\n      <td>182.871715</td>\n      <td>0.443575</td>\n      <td>-0.836823</td>\n      <td>34.745626</td>\n      <td>2925.989390</td>\n      <td>412.268175</td>\n      <td>833.884302</td>\n      <td>23.999692</td>\n      <td>4.559941</td>\n      <td>11.865326</td>\n      <td>0.061751</td>\n      <td>0.001543</td>\n      <td>2.076834e+10</td>\n      <td>-1.992164e+08</td>\n      <td>0.508573</td>\n      <td>result/Fixed\\1\\4.txt</td>\n      <td>0</td>\n    </tr>\n    <tr>\n      <th>2</th>\n      <td>128.592846</td>\n      <td>0.462755</td>\n      <td>-0.873007</td>\n      <td>24.432641</td>\n      <td>2057.515030</td>\n      <td>277.885575</td>\n      <td>562.665890</td>\n      <td>23.029270</td>\n      <td>4.375561</td>\n      <td>11.373538</td>\n      <td>0.072368</td>\n      <td>0.001479</td>\n      <td>1.631736e+10</td>\n      <td>-1.252985e+08</td>\n      <td>0.325312</td>\n      <td>result/Fixed\\1\\5.txt</td>\n      <td>0</td>\n    </tr>\n    <tr>\n      <th>5</th>\n      <td>115.930490</td>\n      <td>0.413702</td>\n      <td>-0.780467</td>\n      <td>22.026793</td>\n      <td>1854.914442</td>\n      <td>280.226925</td>\n      <td>567.573110</td>\n      <td>25.767396</td>\n      <td>4.895805</td>\n      <td>12.722094</td>\n      <td>0.066952</td>\n      <td>0.001220</td>\n      <td>1.601724e+10</td>\n      <td>-1.544197e+08</td>\n      <td>0.239150</td>\n      <td>result/Fixed\\1\\9.txt</td>\n      <td>0</td>\n    </tr>\n    <tr>\n      <th>6</th>\n      <td>144.456853</td>\n      <td>0.476134</td>\n      <td>-0.898248</td>\n      <td>27.446802</td>\n      <td>2311.342785</td>\n      <td>303.395400</td>\n      <td>614.639000</td>\n      <td>22.393829</td>\n      <td>4.254828</td>\n      <td>11.053944</td>\n      <td>0.071591</td>\n      <td>0.001716</td>\n      <td>8.132463e+09</td>\n      <td>-6.102768e+07</td>\n      <td>0.442418</td>\n      <td>result/Fixed\\2\\0.txt</td>\n      <td>0</td>\n    </tr>\n  </tbody>\n</table>\n</div>"
     },
     "execution_count": 19,
     "metadata": {},
     "output_type": "execute_result"
    }
   ],
   "source": [
    "classed.head()\n"
   ],
   "metadata": {
    "collapsed": false,
    "pycharm": {
     "name": "#%%\n"
    }
   }
  },
  {
   "cell_type": "code",
   "execution_count": 29,
   "outputs": [],
   "source": [
    "sns.pairplot(classed, hue='class')\n",
    "\n",
    "plt.savefig(os.path.join(outdir, 'scatterUnfiltered.png'))\n",
    "plt.close()\n"
   ],
   "metadata": {
    "collapsed": false,
    "pycharm": {
     "name": "#%%\n"
    }
   }
  },
  {
   "cell_type": "code",
   "execution_count": 25,
   "outputs": [],
   "source": [],
   "metadata": {
    "collapsed": false,
    "pycharm": {
     "name": "#%%\n"
    }
   }
  },
  {
   "cell_type": "code",
   "execution_count": null,
   "outputs": [],
   "source": [
    "# plt.figure(figsize=(20, 40))\n",
    "apop.hist(figsize=(20, 20), bins = apop.shape[0]//80)\n",
    "plt.savefig(os.path.join(outdir, \"apop.png\"))\n",
    "plt.show()\n",
    "plt.close()"
   ],
   "metadata": {
    "collapsed": false,
    "pycharm": {
     "name": "#%%\n"
    }
   }
  },
  {
   "cell_type": "code",
   "execution_count": null,
   "outputs": [],
   "source": [
    "outdir = \"analys/merged\"\n",
    "old.to_csv(os.path.join(outdir, 'mergedTable.csv'))"
   ],
   "metadata": {
    "collapsed": false,
    "pycharm": {
     "name": "#%%\n"
    }
   }
  },
  {
   "cell_type": "code",
   "execution_count": null,
   "outputs": [],
   "source": [
    "fig, axes = plt.subplots(4, 4, figsize=(20, 20))\n",
    "\n",
    "ind = 0\n",
    "for i in old:\n",
    "    if old[i].dtype == 'object':\n",
    "        continue\n",
    "    print(old[i].dtype)\n",
    "    axes[ind//4, ind%4].hist(old[i], bins = old.shape[0]//80)\n",
    "    axes[ind//4, ind%4].hist(apop[i], bins = apop.shape[0]//80)\n",
    "    axes[ind//4, ind%4].set_title(i)\n",
    "    ind+=1\n",
    "plt.savefig(os.path.join(outdir, \"mergedHists.png\"), dpi=200)\n",
    "# plt.show(fig)"
   ],
   "metadata": {
    "collapsed": false,
    "pycharm": {
     "name": "#%%\n"
    }
   }
  },
  {
   "cell_type": "code",
   "execution_count": null,
   "outputs": [],
   "source": [
    "fig, axes = plt.subplots(4, 4, figsize=(20, 20))\n",
    "\n",
    "ind = 0\n",
    "for i in old:\n",
    "    if old[i].dtype == 'object':\n",
    "        continue\n",
    "    l, r = min(old[i].min(), apop[i].min()), max(old[i].max(), apop[i].max())\n",
    "    n = 30\n",
    "    bins = np.arange(l, r + (r - l)/10/n, (r - l)/n)\n",
    "    y, x = np.histogram(apop[i], bins=bins)\n",
    "    axes[ind//4, ind%4].plot(x[:-1], y/apop.shape[0], '-o', label='apoptose')\n",
    "    y, x = np.histogram(old[i], bins=bins)\n",
    "    axes[ind//4, ind%4].plot(x[:-1], y/old.shape[0], '-o', label='healthy cells')\n",
    "    axes[ind//4, ind%4].legend()\n",
    "    axes[ind//4, ind%4].set_title(i)\n",
    "    ind+=1\n",
    "plt.savefig(os.path.join(outdir, \"scatterNormed8.png\"), dpi=200)"
   ],
   "metadata": {
    "collapsed": false,
    "pycharm": {
     "name": "#%%\n"
    }
   }
  },
  {
   "cell_type": "code",
   "execution_count": null,
   "outputs": [],
   "source": [
    "fig, axes = plt.subplots(4, 4, figsize=(20, 20))\n",
    "\n",
    "ind = 0\n",
    "for i in old:\n",
    "    if old[i].dtype == 'object':\n",
    "        continue\n",
    "    y, x = np.histogram(old[i], bins=old.shape[0]//40)\n",
    "    axes[ind//4, ind%4].plot(x[:-1], y)\n",
    "    y, x = np.histogram(apop[i], bins=x[::6])\n",
    "    axes[ind//4, ind%4].plot(x[:-1], y)\n",
    "    ind+=1\n",
    "plt.savefig(os.path.join(outdir, \"line2.png\"), dpi=200)\n",
    "\n"
   ],
   "metadata": {
    "collapsed": false,
    "pycharm": {
     "name": "#%%\n"
    }
   }
  }
 ],
 "metadata": {
  "kernelspec": {
   "display_name": "Python 3",
   "language": "python",
   "name": "python3"
  },
  "language_info": {
   "codemirror_mode": {
    "name": "ipython",
    "version": 2
   },
   "file_extension": ".py",
   "mimetype": "text/x-python",
   "name": "python",
   "nbconvert_exporter": "python",
   "pygments_lexer": "ipython2",
   "version": "2.7.6"
  }
 },
 "nbformat": 4,
 "nbformat_minor": 0
}